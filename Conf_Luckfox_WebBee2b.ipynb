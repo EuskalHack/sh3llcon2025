{
 "cells": [
  {
   "cell_type": "markdown",
   "id": "a5de2fc4-0fdf-4822-8156-cd523e82f160",
   "metadata": {},
   "source": [
    "# Pruebas WebBee 2"
   ]
  },
  {
   "cell_type": "code",
   "execution_count": 1,
   "id": "7eed340b-72cc-4a77-8507-465cc0a0876e",
   "metadata": {},
   "outputs": [],
   "source": [
    "# 1-a insertar tarjeta sd y averiguar su nombre\n",
    "! ( lsblk      | grep sd )"
   ]
  },
  {
   "cell_type": "code",
   "execution_count": 2,
   "id": "9d5d8d6f-382e-42a7-9658-5317cc6872df",
   "metadata": {},
   "outputs": [],
   "source": [
    "# la tarjeta esta en sda"
   ]
  },
  {
   "cell_type": "code",
   "execution_count": 3,
   "id": "e7f35422-df8c-4d9f-9c53-b34c22f43eee",
   "metadata": {},
   "outputs": [
    {
     "name": "stdout",
     "output_type": "stream",
     "text": [
      "total 2,2G\n",
      "drwxrwxrwx 2 root root 4,0K ene 18 20:18 .\n",
      "drwxrwxrwx 6 root root 4,0K dic 30 23:58 ..\n",
      "-rwxrwxrwx 1 root root 4,2K dic 28 10:08 blkenvflash\n",
      "-rw-rw-rw- 1 root root 3,0M nov 28 09:04 boot.img\n",
      "-rw-r--r-- 1 root root 1,9G ene 18 20:18 disk.img\n",
      "-rw-rw-rw- 1 root root 263K nov 28 09:04 download.bin\n",
      "-rw-rw-rw- 1 root root  32K nov 28 09:04 env.img\n",
      "-rw-rw-rw- 1 root root  232 nov 28 08:50 .env.txt\n",
      "-rw-rw-rw- 1 root root 184K nov 28 09:04 idblock.img\n",
      "-rw-rw-rw- 1 root root  37M nov 28 09:04 oem.img\n",
      "-rw-rw-rw- 1 root root 1,1G ene 18 12:01 rootfs.img\n",
      "-rw-rw-rw- 1 root root 1,3K nov 28 09:04 sd_update.txt\n",
      "-rw-rw-rw- 1 root root 1,3K nov 28 09:04 tftp_update.txt\n",
      "-rw-rw-rw- 1 root root 256K nov 28 09:04 uboot.img\n",
      "-rw-rw-rw- 1 root root 9,6M nov 28 09:04 userdata.img\n"
     ]
    }
   ],
   "source": [
    "# 1-b ir a la carpeta donde esta la imagen y ejecutar programa de flaseo\n",
    "! ls -lha /mnt/dietpi_userdata/luckfox/webbee_ubuntu_sd/"
   ]
  },
  {
   "cell_type": "code",
   "execution_count": 4,
   "id": "c295a738-bfaa-4ca9-a5fc-747a22620884",
   "metadata": {},
   "outputs": [],
   "source": [
    "# 1-b ir a la carpeta donde esta la imagen y ejecutar programa de flaseo\n",
    "#! ( cd /mnt/dietpi_userdata/luckfox/webbee_ubuntu_sd/; sudo ./blkenvflash /dev/sda )\n",
    "#! ( cd /mnt/dietpi_userdata/luckfox/webbee_ubuntu_sd/; sudo ./blkenvflash disk.img )"
   ]
  },
  {
   "cell_type": "markdown",
   "id": "b786d8ae-29dd-4217-9782-7f0d28e12adf",
   "metadata": {},
   "source": [
    "___\n",
    "# 2) Poner tarjeta en placa y comprobar que arranca\n",
    "nota: La primera vez puede hacer varios reinicios mientras prepara el sistema de archivos.   \n",
    "Yo he contado 11 (reinicios usb no del sistema)"
   ]
  },
  {
   "cell_type": "code",
   "execution_count": 5,
   "id": "cbb32a0c-04c9-4256-a170-e5aa960ae4ec",
   "metadata": {},
   "outputs": [
    {
     "name": "stdout",
     "output_type": "stream",
     "text": [
      "[57171.180276] usb 3-7: USB disconnect, device number 46\n",
      "[57236.237278] usb 3-7: new high-speed USB device number 48 using xhci_hcd\n",
      "[57236.387011] usb 3-7: New USB device found, idVendor=2207, idProduct=0019, bcdDevice= 3.10\n",
      "[57236.387029] usb 3-7: New USB device strings: Mfr=1, Product=2, SerialNumber=3\n",
      "[57236.387035] usb 3-7: Product: rk3xxx\n",
      "[57236.387039] usb 3-7: Manufacturer: rockchip\n",
      "[57236.387043] usb 3-7: SerialNumber: e021a19f1ad0f1fc\n"
     ]
    }
   ],
   "source": [
    "# Ver ultimos mensajes del kernel relativos a usb\n",
    "! sudo dmesg | grep usb | tail -7"
   ]
  },
  {
   "cell_type": "code",
   "execution_count": 6,
   "id": "a944a860-1c2e-41ee-9369-20695803f791",
   "metadata": {},
   "outputs": [
    {
     "name": "stdout",
     "output_type": "stream",
     "text": [
      "Bus 003 Device 048: ID 2207:0019 Fuzhou Rockchip Electronics Company rk3xxx\n"
     ]
    }
   ],
   "source": [
    "!lsusb | grep Rockchip"
   ]
  },
  {
   "cell_type": "code",
   "execution_count": 7,
   "id": "275a548c-4095-42a6-9e89-98a0933dc3a9",
   "metadata": {},
   "outputs": [
    {
     "name": "stdout",
     "output_type": "stream",
     "text": [
      "List of devices attached\n",
      "e021a19f1ad0f1fc\tdevice\n",
      "\n"
     ]
    }
   ],
   "source": [
    "# Listar Dispositivos ADB (la placa deberia presentarse como ADB entre otras formas)\n",
    "! adb devices"
   ]
  },
  {
   "cell_type": "code",
   "execution_count": 8,
   "id": "79bb302f-97c3-435e-a302-b3b306710927",
   "metadata": {},
   "outputs": [
    {
     "name": "stdout",
     "output_type": "stream",
     "text": [
      "      iInterface              5 RNDIS Communications Control\n",
      "      iInterface              6 RNDIS Ethernet Data\n",
      "      iInterface              9 ADB Interface\n"
     ]
    }
   ],
   "source": [
    "# mostrar interfaces (funciones del dispositivo USB)\n",
    "! sudo lsusb -d 2207: -v | grep iInterface"
   ]
  },
  {
   "cell_type": "code",
   "execution_count": 9,
   "id": "dc464609-7b6c-424d-b20b-e98c64afaedc",
   "metadata": {},
   "outputs": [
    {
     "name": "stdout",
     "output_type": "stream",
     "text": [
      "    bNumInterfaces          3\n",
      "    Interface Association:\n",
      "      bFirstInterface         0\n",
      "      bInterfaceCount         2\n",
      "    Interface Descriptor:\n",
      "      bInterfaceNumber        0\n",
      "      bInterfaceClass       224 Wireless\n",
      "      bInterfaceSubClass      1 Radio Frequency\n",
      "      bInterfaceProtocol      3 RNDIS\n",
      "      iInterface              5 RNDIS Communications Control\n",
      "    Interface Descriptor:\n",
      "      bInterfaceNumber        1\n",
      "      bInterfaceClass        10 CDC Data\n",
      "      bInterfaceSubClass      0 \n",
      "      bInterfaceProtocol      0 \n",
      "      iInterface              6 RNDIS Ethernet Data\n",
      "    Interface Descriptor:\n",
      "      bInterfaceNumber        2\n",
      "      bInterfaceClass       255 Vendor Specific Class\n",
      "      bInterfaceSubClass     66 \n",
      "      bInterfaceProtocol      1 \n",
      "      iInterface              9 ADB Interface\n"
     ]
    }
   ],
   "source": [
    "# mostrar interfaces (funciones del dispositivo USB)\n",
    "! sudo lsusb -d 2207: -v | grep Interface"
   ]
  },
  {
   "cell_type": "code",
   "execution_count": 10,
   "id": "d65b3a80-1f40-4150-a0c2-ca595805651d",
   "metadata": {},
   "outputs": [],
   "source": [
    "# Notas Para pruebas en Maq Virtual\n",
    "# para Ignoralro en el anfitrion\n",
    "# cat /etc/udev/rules.d/99-block-vid2207.rules \n",
    "# ATTR{idVendor}==\"2207\", OPTIONS+=\"ignore_device\"\n",
    "# cat /etc/udev/rules.d/70-android.rules \n",
    "# SUBSYSTEM==\"usb\", ATTR{idVendor}==\"2207\", MODE=\"0666\", GROUP=\"plugdev\"\n",
    "# cat /etc/modprobe.d/blacklist-vid2207.conf\n",
    "# Evitar la carga automática de drivers para dispositivos USB con VID 2207\n",
    "# a veces hay que desactivar la interfaz ADB\n",
    "#blacklist usb:v2207*\n",
    "#blacklist rndis_host\n",
    "#sudo udevadm control --reload-rules\n",
    "#sudo udevadm trigger"
   ]
  },
  {
   "cell_type": "markdown",
   "id": "02892451-0a6e-4b96-8357-d99a3671801c",
   "metadata": {},
   "source": [
    "____\n",
    "# 3) Algunos comandos para ver info de la placa"
   ]
  },
  {
   "cell_type": "code",
   "execution_count": 11,
   "id": "c7a585bd-eb83-47c8-8815-239ef87cb930",
   "metadata": {},
   "outputs": [
    {
     "name": "stdout",
     "output_type": "stream",
     "text": [
      "PRETTY_NAME=\"Ubuntu 22.04.3 LTS\"\n",
      "NAME=\"Ubuntu\"\n",
      "VERSION_ID=\"22.04\"\n",
      "VERSION=\"22.04.3 LTS (Jammy Jellyfish)\"\n",
      "VERSION_CODENAME=jammy\n",
      "ID=ubuntu\n",
      "ID_LIKE=debian\n",
      "HOME_URL=\"https://www.ubuntu.com/\"\n",
      "SUPPORT_URL=\"https://help.ubuntu.com/\"\n",
      "BUG_REPORT_URL=\"https://bugs.launchpad.net/ubuntu/\"\n",
      "PRIVACY_POLICY_URL=\"https://www.ubuntu.com/legal/terms-and-policies/privacy-policy\"\n",
      "UBUNTU_CODENAME=jammy\n"
     ]
    }
   ],
   "source": [
    "# ver sistema operativo de placa \n",
    "! adb shell cat /etc/*release"
   ]
  },
  {
   "cell_type": "code",
   "execution_count": 12,
   "id": "2ba70c0a-33c5-4322-8ad9-54d9d502c7ef",
   "metadata": {},
   "outputs": [
    {
     "name": "stdout",
     "output_type": "stream",
     "text": [
      "NAME        MAJ:MIN RM  SIZE RO TYPE MOUNTPOINTS\n",
      "mtdblock0    31:0    0  128M  0 disk \n",
      "mmcblk1     179:0    0 58.2G  0 disk \n",
      "├─mmcblk1p1 179:1    0   32K  0 part \n",
      "├─mmcblk1p2 179:2    0  512K  0 part \n",
      "├─mmcblk1p3 179:3    0  256K  0 part \n",
      "├─mmcblk1p4 179:4    0   32M  0 part \n",
      "├─mmcblk1p5 179:5    0  512M  0 part /oem\n",
      "├─mmcblk1p6 179:6    0  256M  0 part /userdata\n",
      "└─mmcblk1p7 179:7    0    6G  0 part /\n"
     ]
    }
   ],
   "source": [
    "# ver con que sistema de la placa Memoria interna / SD\n",
    "! adb shell lsblk\n",
    "# La particion / deberia estar en mmcblk (Tarjeta SD)"
   ]
  },
  {
   "cell_type": "code",
   "execution_count": 13,
   "id": "908df3df-d4a3-4af9-9a3a-b56800f8ea38",
   "metadata": {},
   "outputs": [
    {
     "name": "stdout",
     "output_type": "stream",
     "text": [
      "1: lo: <LOOPBACK,UP,LOWER_UP> mtu 65536 qdisc noqueue state UNKNOWN group default qlen 1000\n",
      "    link/loopback 00:00:00:00:00:00 brd 00:00:00:00:00:00\n",
      "    inet 127.0.0.1/8 scope host lo\n",
      "       valid_lft forever preferred_lft forever\n",
      "2: eth0: <BROADCAST,MULTICAST,UP,LOWER_UP> mtu 1500 qdisc mq state UP group default qlen 1000\n",
      "    link/ether a2:5b:e9:6e:6c:8b brd ff:ff:ff:ff:ff:ff\n",
      "    inet 192.168.3.191/24 brd 192.168.3.255 scope global dynamic noprefixroute eth0\n",
      "       valid_lft 86332sec preferred_lft 86332sec\n",
      "3: usb0: <BROADCAST,MULTICAST,UP,LOWER_UP> mtu 1500 qdisc pfifo_fast state UP group default qlen 1000\n",
      "    link/ether 3a:91:cb:ae:12:82 brd ff:ff:ff:ff:ff:ff\n",
      "    inet 172.32.0.70/16 brd 172.32.255.255 scope global usb0\n",
      "       valid_lft forever preferred_lft forever\n"
     ]
    }
   ],
   "source": [
    "# ver interfaces de red de la placa\n",
    "! adb shell ip a"
   ]
  },
  {
   "cell_type": "markdown",
   "id": "5290d370-8aa2-447d-abc6-e25eae2551cd",
   "metadata": {},
   "source": [
    "<div class=\"alert alert-block alert-danger\">\n",
    "<b>La IP: 172.32.0.70</b> es una ip publica y pertenece a <a href=https://ipinfo.io/ips/172.32.0.0/16> AS21928 T-Mobile USA, Inc.\n",
    "</div>\n",
    "\n",
    "<div class=\"alert alert-block alert-success\">\n",
    "<b>Lo ideal seria poner una IP: 169.254.1.1</b> Rango APIPA (Automatic Private IP Addressing) 169.254.0.0/16.<br>\n",
    "    Asi por ejemplo desde Windows Tendria conexion directa sin configurar nada (ZeroConf).\n",
    "</div>"
   ]
  },
  {
   "cell_type": "code",
   "execution_count": 14,
   "id": "c3d0ecae-ac94-4e50-a4c6-251725840e20",
   "metadata": {},
   "outputs": [
    {
     "name": "stdout",
     "output_type": "stream",
     "text": [
      "/etc/init.d/S50usbdevice:\tifconfig usb0 172.32.0.70\n"
     ]
    }
   ],
   "source": [
    "# Con poco de Reversing\n",
    "# Averiguo de donde sale la puñetera IP del USB (que no es rango local)\n",
    "! adb shell grep -r 172.32.0.70  /etc\n",
    "# Al parecer en /etc/init.d/S50usbdevice se configuran las funciones USB de la placa"
   ]
  },
  {
   "cell_type": "code",
   "execution_count": 15,
   "id": "3f41a638-4328-4611-a466-1085bac94dad",
   "metadata": {},
   "outputs": [
    {
     "name": "stdout",
     "output_type": "stream",
     "text": [
      "\tifconfig usb0 169.254.1.1\n"
     ]
    }
   ],
   "source": [
    "# Con ayuda de una IA consigo un comando para cambiar este texto.\n",
    "# Lo ideal seria hacer nano /etc/init.d/S50usbdevice y cambiarlo a mano.\n",
    "# nota los comandos hay que ejecutarlos en la placa por eso hago adb shell\n",
    "\n",
    "#1) copio el archivo original por si acaso\n",
    "! adb shell \"[ ! -f /root/S50usbdevice_old ] && cp /etc/init.d/S50usbdevice /root/S50usbdevice_old\"\n",
    "#2) Actualizo ip\n",
    "! adb shell \"sed -i 's/172\\.32\\.0\\.70/169.254.1.1/g' /etc/init.d/S50usbdevice\"\n",
    "#3) Verifico archivo\n",
    "! adb shell \"cat /etc/init.d/S50usbdevice | grep 169\""
   ]
  },
  {
   "cell_type": "code",
   "execution_count": 16,
   "id": "58b4bf31-a07d-49fa-963c-294204dfac1a",
   "metadata": {},
   "outputs": [
    {
     "name": "stdout",
     "output_type": "stream",
     "text": [
      "3: usb0: <BROADCAST,MULTICAST,UP,LOWER_UP> mtu 1500 qdisc pfifo_fast state UP group default qlen 1000\n",
      "    link/ether 8e:19:14:ee:ad:d6 brd ff:ff:ff:ff:ff:ff\n",
      "    inet 169.254.1.1/16 brd 169.254.255.255 scope global usb0\n",
      "       valid_lft forever preferred_lft forever\n"
     ]
    }
   ],
   "source": [
    "# Reninicio la placa y verifico que funciona\n",
    "# nota la placa tarda un rato en reiniciar\n",
    "! adb reboot\n",
    "! sleep 30s\n",
    "! adb shell ip a show dev usb0 "
   ]
  },
  {
   "cell_type": "code",
   "execution_count": 17,
   "id": "ac5bb7a3-1357-4cdb-bedf-9f2de75c4f60",
   "metadata": {},
   "outputs": [],
   "source": [
    "# Levantar una interfaz pero sin pedir ip (puede ser util en el bridgue por scapy)\n",
    "! adb shell timeout 10 ip link set dev eth0 up"
   ]
  },
  {
   "cell_type": "markdown",
   "id": "25215086-94b6-45a1-bbd7-ffc43ed20322",
   "metadata": {},
   "source": [
    "#### ahora me podria comunicar con la placa por ssh comodamente"
   ]
  },
  {
   "cell_type": "code",
   "execution_count": 18,
   "id": "ceb72f86-730f-480e-9357-22d5301108f3",
   "metadata": {},
   "outputs": [
    {
     "name": "stdout",
     "output_type": "stream",
     "text": [
      "               total        used        free      shared  buff/cache   available\n",
      "Mem:            56Mi        24Mi       2.0Mi       0.0Ki        29Mi        27Mi\n",
      "Swap:          1.0Gi        10Mi       1.0Gi\n"
     ]
    }
   ],
   "source": [
    "# Estado Memoria\n",
    "! adb shell free -h"
   ]
  },
  {
   "cell_type": "markdown",
   "id": "e12b08b0-cbf2-4ed2-9efb-af11df4541ec",
   "metadata": {},
   "source": [
    "<div class=\"alert alert-block alert-warning\">\n",
    "<b>Los recursos de la placa son muy limitados: solo 64Mb RAM</b>\n",
    "</div>"
   ]
  },
  {
   "cell_type": "code",
   "execution_count": 19,
   "id": "5c62cd32-15d2-4d83-aaa7-84cd5c55005d",
   "metadata": {},
   "outputs": [
    {
     "name": "stdout",
     "output_type": "stream",
     "text": [
      "\u001b[0m\u001b[0;4m \u001b[0m\u001b[0m\u001b[0;4m UNIT                       \u001b[0m\u001b[0m\u001b[0;4m LOAD  \u001b[0m\u001b[0m\u001b[0;4m ACTIVE\u001b[0m\u001b[0m\u001b[0;4m SUB    \u001b[0m\u001b[0m\u001b[0;4m DESCRIPTION                 \u001b[0m\n",
      "  cron.service                loaded active running Regular background program …\n",
      "  dbus.service                loaded active running D-Bus System Message Bus\n",
      "  getty@tty1.service          loaded active running Getty on tty1\n",
      "  ModemManager.service        loaded active running Modem Manager\n",
      "  NetworkManager-dispatcher.… loaded active running Network Manager Script Disp…\n",
      "  NetworkManager.service      loaded active running Network Manager\n",
      "  ntp.service                 loaded active running Network Time Service\n",
      "  polkit.service              loaded active running Authorization Manager\n",
      "  rc-local.service            loaded active running /etc/rc.local Compatibility\n",
      "  rsyslog.service             loaded active running System Logging Service\n",
      "  serial-getty@ttyFIQ0.servi… loaded active running Serial Getty on ttyFIQ0\n",
      "  ssh.service                 loaded active running OpenBSD Secure Shell server\n",
      "  systemd-hostnamed.service   loaded active running Hostname Service\n",
      "  systemd-journald.service    loaded active running Journal Service\n",
      "  systemd-logind.service      loaded active running User Login Management\n",
      "  systemd-resolved.service    loaded active running Network Name Resolution\n",
      "  systemd-udevd.service       loaded active running Rule-based Manager for Devi…\n",
      "  wpa_supplicant.service      loaded active running WPA supplicant\n",
      "\n",
      "LOAD   = Reflects whether the unit definition was properly loaded.\n",
      "ACTIVE = The high-level unit activation state, i.e. generalization of SUB.\n",
      "SUB    = The low-level unit activation state, values depend on unit type.\n",
      "18 loaded units listed.\n"
     ]
    }
   ],
   "source": [
    "#mostrar servicios Activos\n",
    "! adb shell systemctl list-units --no-pager --type=service --state=running"
   ]
  },
  {
   "cell_type": "code",
   "execution_count": 20,
   "id": "22955ce2-505d-4e2f-bc21-b2ce70b2e900",
   "metadata": {},
   "outputs": [
    {
     "name": "stdout",
     "output_type": "stream",
     "text": [
      "State  Recv-Q Send-Q Local Address:Port Peer Address:PortProcess                                   \n",
      "LISTEN 0      0          127.0.0.1:5037      0.0.0.0:*    users:((\"adbd\",pid=243,fd=5))            \n",
      "LISTEN 0      0            0.0.0.0:5555      0.0.0.0:*    users:((\"adbd\",pid=243,fd=9))            \n",
      "LISTEN 0      0         127.0.0.53:53        0.0.0.0:*    users:((\"systemd-resolve\",pid=137,fd=14))\n",
      "LISTEN 0      0            0.0.0.0:22        0.0.0.0:*    users:((\"sshd\",pid=285,fd=3))            \n"
     ]
    }
   ],
   "source": [
    "#mostrar puertos abiertos\n",
    "! adb shell ss -natolp"
   ]
  },
  {
   "cell_type": "code",
   "execution_count": 21,
   "id": "86a3a428-3cb4-42a4-b7c5-92366dbc3717",
   "metadata": {},
   "outputs": [
    {
     "name": "stdout",
     "output_type": "stream",
     "text": [
      "[    0.101453] gadgetfs: USB Gadget filesystem, version 24 Aug 2004\n",
      "[    0.101593] udc ffb00000.usb: failed to start g_mass_storage: -22\n",
      "[    0.102668] usbcore: registered new interface driver uvcvideo\n",
      "[    0.102679] USB Video Class driver (1.1.1)\n",
      "[   21.576827] usb0: HOST MAC 8a:df:a3:e9:5f:87\n",
      "[   21.576840] usb0: MAC 8e:19:14:ee:ad:d6\n",
      "[   21.754037] dwc3 ffb00000.usb: device reset\n",
      "[   21.885522] dwc3 ffb00000.usb: device reset\n",
      "[   22.030224] android_work: sent uevent USB_STATE=CONNECTED\n",
      "[   22.043543] android_work: sent uevent USB_STATE=CONFIGURED\n"
     ]
    }
   ],
   "source": [
    "#mostrar registro del sistema\n",
    "! adb shell \"dmesg | grep -i USB | tail\"\n",
    "# si ves USB_STATE=DISCONNECTED es que el usb se esta reiniciando\n",
    "# Esto me ha pasado en puertos USB3 => workarround poner un hub USB2"
   ]
  },
  {
   "cell_type": "markdown",
   "id": "2986386a-0a96-46b5-95bf-b4b851744d4c",
   "metadata": {},
   "source": [
    "\n",
    "<div class=\"alert alert-block alert-warning\">\n",
    "<b>Este es un ejemplo de salida con fallos en USB</b>\n",
    "</div><pre>[   17.745558] dwc3 ffb00000.usb: device reset\n",
    "[   17.890280] android_work: sent uevent USB_STATE=CONNECTED\n",
    "[   17.894500] android_work: sent uevent USB_STATE=CONFIGURED\n",
    "[   36.565938] dwc3 ffb00000.usb: device reset\n",
    "[   36.697544] dwc3 ffb00000.usb: device reset\n",
    "[   36.847846] android_work: sent uevent USB_STATE=CONFIGURED\n",
    "[   36.849429] dwc3 ffb00000.usb: request b2b08d00 was not queued to ep0out\n",
    "[   36.855435] android_work: sent uevent USB_STATE=DISCONNECTED\n",
    "[   42.641861] dwc3 ffb00000.usb: device reset\n",
    "[   42.773627] dwc3 ffb00000.usb: device reset\n",
    "[   42.918267] android_work: sent uevent USB_STATE=CONNECTED\n",
    "[   42.925550] android_work: sent uevent USB_STATE=CONFIGURED</pre>"
   ]
  },
  {
   "cell_type": "markdown",
   "id": "4e9ddf93-b3cc-4d62-a7db-0e2116a69eb5",
   "metadata": {},
   "source": [
    "# Mejoras en el sistema => Desabilitar Servicios innecesarios\n",
    "<div class=\"alert alert-block alert-info\">\n",
    "<b>La placa va muy justa de recursos. Sobre todo de RAM.       \n",
    "Es mejor aligerarla un poco</b> \n",
    "</div>"
   ]
  },
  {
   "cell_type": "code",
   "execution_count": 22,
   "id": "758bb7ff-0c55-421a-a9a0-93a4f187b579",
   "metadata": {},
   "outputs": [
    {
     "name": "stdout",
     "output_type": "stream",
     "text": [
      "\u001b[0m\u001b[0;4m \u001b[0m\u001b[0m\u001b[0;4m UNIT                       \u001b[0m\u001b[0m\u001b[0;4m LOAD  \u001b[0m\u001b[0m\u001b[0;4m ACTIVE\u001b[0m\u001b[0m\u001b[0;4m SUB    \u001b[0m\u001b[0m\u001b[0;4m DESCRIPTION                 \u001b[0m\n",
      "  cron.service                loaded active running Regular background program …\n",
      "  dbus.service                loaded active running D-Bus System Message Bus\n",
      "  getty@tty1.service          loaded active running Getty on tty1\n",
      "  ModemManager.service        loaded active running Modem Manager\n",
      "  NetworkManager-dispatcher.… loaded active running Network Manager Script Disp…\n",
      "  NetworkManager.service      loaded active running Network Manager\n",
      "  ntp.service                 loaded active running Network Time Service\n",
      "  polkit.service              loaded active running Authorization Manager\n",
      "  rc-local.service            loaded active running /etc/rc.local Compatibility\n",
      "  rsyslog.service             loaded active running System Logging Service\n",
      "  serial-getty@ttyFIQ0.servi… loaded active running Serial Getty on ttyFIQ0\n",
      "  ssh.service                 loaded active running OpenBSD Secure Shell server\n",
      "  systemd-hostnamed.service   loaded active running Hostname Service\n",
      "  systemd-journald.service    loaded active running Journal Service\n",
      "  systemd-logind.service      loaded active running User Login Management\n",
      "  systemd-resolved.service    loaded active running Network Name Resolution\n",
      "  systemd-udevd.service       loaded active running Rule-based Manager for Devi…\n",
      "  wpa_supplicant.service      loaded active running WPA supplicant\n",
      "\n",
      "LOAD   = Reflects whether the unit definition was properly loaded.\n",
      "ACTIVE = The high-level unit activation state, i.e. generalization of SUB.\n",
      "SUB    = The low-level unit activation state, values depend on unit type.\n",
      "18 loaded units listed.\n"
     ]
    }
   ],
   "source": [
    "#mostrar servicios Activos\n",
    "! adb shell systemctl list-units --no-pager --type=service --state=running"
   ]
  },
  {
   "cell_type": "code",
   "execution_count": 23,
   "id": "690541fe-e83e-4d55-91fd-2b9241efcd3e",
   "metadata": {},
   "outputs": [
    {
     "name": "stdout",
     "output_type": "stream",
     "text": [
      "Filesystem      Size  Used Avail Use% Mounted on\n",
      "/dev/root       5.9G  1.9G  3.8G  33% /\n",
      "tmpfs            29M     0   29M   0% /dev/shm\n",
      "tmpfs            17M  860K   17M   5% /run\n",
      "tmpfs           5.0M     0  5.0M   0% /run/lock\n",
      "/dev/mmcblk1p6  238M   15K  229M   1% /userdata\n",
      "/dev/mmcblk1p5  488M   19M  454M   4% /oem\n"
     ]
    }
   ],
   "source": [
    "# nota: en la pico hay que ampliar tmpfs para que no de error al desabilitar servicios\n",
    "! adb shell \"grep -q tmpfs /etc/fstab || echo none /run tmpfs defaults,size=17M 0 0 >> /etc/fstab\"\n",
    "! adb reboot\n",
    "! sleep 45s\n",
    "! adb shell df -h"
   ]
  },
  {
   "cell_type": "code",
   "execution_count": 24,
   "id": "f58fc34e-a635-4ff6-942b-475870edf8f0",
   "metadata": {},
   "outputs": [
    {
     "name": "stdout",
     "output_type": "stream",
     "text": [
      "               total        used        free      shared  buff/cache   available\n",
      "Mem:            56Mi        23Mi       1.0Mi       0.0Ki        31Mi        28Mi\n",
      "Swap:          1.0Gi        12Mi       1.0Gi\n"
     ]
    }
   ],
   "source": [
    "# Estado Memoria\n",
    "! adb shell free -h"
   ]
  },
  {
   "cell_type": "code",
   "execution_count": 25,
   "id": "79b6acdc-ee44-4bca-a1fd-6eb4eadac99f",
   "metadata": {},
   "outputs": [
    {
     "name": "stdout",
     "output_type": "stream",
     "text": [
      "Removed /etc/systemd/system/dbus-fi.w1.wpa_supplicant1.service.\n",
      "Removed /etc/systemd/system/multi-user.target.wants/wpa_supplicant.service.\n"
     ]
    }
   ],
   "source": [
    "# Desabilitar Servicios innecesarios => wpa_supplicant Autenticacion wpa en redes wifi\n",
    "! adb shell systemctl disable wpa_supplicant # La luckfox no tiene wifi \n",
    "! adb shell systemctl stop    wpa_supplicant # luego no necesito wpa"
   ]
  },
  {
   "cell_type": "code",
   "execution_count": 26,
   "id": "ae41531e-303e-49a5-89fa-5b1c6e3d91fe",
   "metadata": {},
   "outputs": [
    {
     "name": "stdout",
     "output_type": "stream",
     "text": [
      "Removed /etc/systemd/system/getty.target.wants/getty@tty1.service.\n"
     ]
    }
   ],
   "source": [
    "# Desabilitar Servicios innecesarios => getty@tty1 Terminal serie\n",
    "! adb shell systemctl disable getty@tty1 # Desabilito terminal serie\n",
    "! adb shell systemctl stop    getty@tty1 "
   ]
  },
  {
   "cell_type": "code",
   "execution_count": 27,
   "id": "506ffc34-c03a-4757-9692-11055362f44c",
   "metadata": {},
   "outputs": [],
   "source": [
    "# Desabilitar Servicios innecesarios => serial-getty@ttyFIQ0 terminal serie\n",
    "! adb shell systemctl disable serial-getty@ttyFIQ0 # Desabilito terminal serie\n",
    "! adb shell systemctl stop    serial-getty@ttyFIQ0 "
   ]
  },
  {
   "cell_type": "code",
   "execution_count": 28,
   "id": "b5b1d9d8-5dca-42c9-88bd-52ea8407d89d",
   "metadata": {},
   "outputs": [
    {
     "name": "stdout",
     "output_type": "stream",
     "text": [
      "Removed /etc/systemd/system/multi-user.target.wants/ModemManager.service.\n",
      "Removed /etc/systemd/system/dbus-org.freedesktop.ModemManager1.service.\n"
     ]
    }
   ],
   "source": [
    "# Desabilitar Servicios innecesarios => ModemManager modems banda ancha móvil (2G/3G/4G/5G)\n",
    "! adb shell systemctl disable ModemManager # Desabilito modems banda ancha móvil (2G/3G/4G/5G) \n",
    "! adb shell systemctl stop    ModemManager "
   ]
  },
  {
   "cell_type": "code",
   "execution_count": 29,
   "id": "477a6de3-e9be-407f-b0b7-023b50ec55a0",
   "metadata": {},
   "outputs": [],
   "source": [
    "# Desabilitar Servicios innecesarios => polkit marco autenticación escritorio gráficos\n",
    "#! adb shell systemctl disable polkit # Polkit marco de autenticación utilizado entornos escritorio gráficos Linux\n",
    "#! adb shell systemctl stop    polkit\n",
    "#Nota el parecer en la WebBee y en la pico hace falta este servicio "
   ]
  },
  {
   "cell_type": "code",
   "execution_count": 30,
   "id": "8ebc0c92-6a28-403c-bbbe-f44705687159",
   "metadata": {},
   "outputs": [
    {
     "name": "stdout",
     "output_type": "stream",
     "text": [
      "Removed /etc/systemd/system/dbus-org.freedesktop.resolve1.service.\n",
      "Removed /etc/systemd/system/multi-user.target.wants/systemd-resolved.service.\n",
      "nameserver 8.8.8.8\n"
     ]
    }
   ],
   "source": [
    "# Desabilitar Servicios innecesarios => systemd-resolved servidor dns local\n",
    "! adb shell systemctl disable systemd-resolved # Desabilito servidor dns local \n",
    "! adb shell systemctl stop    systemd-resolved\n",
    "# Tengo que reconfigrar resolucion de nombres\n",
    "! adb shell \"rm /etc/resolv.conf\"\n",
    "! adb shell \"echo nameserver 8.8.8.8 > /etc/resolv.conf\"\n",
    "! adb shell cat /etc/resolv.conf # compruebo que funciona la resolucion de nombres"
   ]
  },
  {
   "cell_type": "code",
   "execution_count": 31,
   "id": "5115bc7f-9b40-4f6e-87c2-159a90f28e77",
   "metadata": {},
   "outputs": [
    {
     "name": "stdout",
     "output_type": "stream",
     "text": [
      "               total        used        free      shared  buff/cache   available\n",
      "Mem:            56Mi        21Mi       1.0Mi       0.0Ki        32Mi        30Mi\n",
      "Swap:          1.0Gi       6.0Mi       1.0Gi\n"
     ]
    }
   ],
   "source": [
    "# Reiniciar a ver que tal \n",
    "! adb reboot\n",
    "! sleep 45s\n",
    "! adb shell free -h"
   ]
  },
  {
   "cell_type": "code",
   "execution_count": 32,
   "id": "1c52ef2e-77c0-4fcd-af5b-891b6af078d0",
   "metadata": {},
   "outputs": [],
   "source": [
    "#Parece que no hemos ganado mucho pero el rendimiento mejora bastante"
   ]
  },
  {
   "cell_type": "code",
   "execution_count": 33,
   "id": "11b8f76e-f14d-4124-8440-f73e623198d9",
   "metadata": {},
   "outputs": [
    {
     "name": "stdout",
     "output_type": "stream",
     "text": [
      "64 bytes from 8.8.8.8: icmp_seq=0 ttl=119 time=8.970 ms\n",
      "64 bytes from 8.8.8.8: icmp_seq=1 ttl=119 time=8.867 ms\n"
     ]
    }
   ],
   "source": [
    "# Compruebo que Sale a Internet\n",
    "! adb shell \"ping -c 2 8.8.8.8 | grep seq\""
   ]
  },
  {
   "cell_type": "code",
   "execution_count": 34,
   "id": "7e0f0bfa-afe5-4951-b874-2a66c37cd152",
   "metadata": {},
   "outputs": [
    {
     "name": "stdout",
     "output_type": "stream",
     "text": [
      "64 bytes from 176.9.86.61: icmp_seq=0 ttl=57 time=39.706 ms\n",
      "64 bytes from 176.9.86.61: icmp_seq=1 ttl=57 time=39.660 ms\n"
     ]
    }
   ],
   "source": [
    "# Compruebo que resuelve\n",
    "! adb shell \"ping -c 2 jejo.es | grep seq\""
   ]
  },
  {
   "cell_type": "code",
   "execution_count": 35,
   "id": "2530c8a8-8704-444b-b7ee-a89c9c91558d",
   "metadata": {},
   "outputs": [
    {
     "name": "stdout",
     "output_type": "stream",
     "text": [
      "\u001b[0m\u001b[0;4m \u001b[0m\u001b[0m\u001b[0;4m UNIT                       \u001b[0m\u001b[0m\u001b[0;4m LOAD  \u001b[0m\u001b[0m\u001b[0;4m ACTIVE\u001b[0m\u001b[0m\u001b[0;4m SUB    \u001b[0m\u001b[0m\u001b[0;4m DESCRIPTION                 \u001b[0m\n",
      "  cron.service                loaded active running Regular background program …\n",
      "  dbus.service                loaded active running D-Bus System Message Bus\n",
      "  networkd-dispatcher.service loaded active running Dispatcher daemon for syste…\n",
      "  NetworkManager.service      loaded active running Network Manager\n",
      "  ntp.service                 loaded active running Network Time Service\n",
      "  rc-local.service            loaded active running /etc/rc.local Compatibility\n",
      "  rsyslog.service             loaded active running System Logging Service\n",
      "  serial-getty@ttyFIQ0.servi… loaded active running Serial Getty on ttyFIQ0\n",
      "  ssh.service                 loaded active running OpenBSD Secure Shell server\n",
      "  systemd-hostnamed.service   loaded active running Hostname Service\n",
      "  systemd-journald.service    loaded active running Journal Service\n",
      "  systemd-logind.service      loaded active running User Login Management\n",
      "  systemd-udevd.service       loaded active running Rule-based Manager for Devi…\n",
      "\n",
      "LOAD   = Reflects whether the unit definition was properly loaded.\n",
      "ACTIVE = The high-level unit activation state, i.e. generalization of SUB.\n",
      "SUB    = The low-level unit activation state, values depend on unit type.\n",
      "13 loaded units listed.\n"
     ]
    }
   ],
   "source": [
    "#comprobar servicios que quedan Activos\n",
    "! adb shell systemctl list-units --no-pager --type=service --state=running"
   ]
  },
  {
   "cell_type": "code",
   "execution_count": 36,
   "id": "fef832fd-24b4-4a5f-91a7-d5f93bdbd094",
   "metadata": {},
   "outputs": [],
   "source": [
    "#Copia de seguridad del libro por si acaso\n",
    "#! cp Conf_Luckfox_WebBee2.ipynb  Conf_Luckfox_WebBee2_copiaSeg1.ipynb"
   ]
  },
  {
   "cell_type": "markdown",
   "id": "9692cc57-ac55-4936-a64c-024245d9ddc3",
   "metadata": {},
   "source": [
    "___\n",
    "___\n",
    "___\n"
   ]
  },
  {
   "cell_type": "markdown",
   "id": "46d5dfe2-20f7-46e3-89e5-858fe787e3df",
   "metadata": {},
   "source": [
    "# Telegram al iniciar la RED\n",
    "/etc/network/if-up.d/telegram"
   ]
  },
  {
   "cell_type": "code",
   "execution_count": 37,
   "id": "be42003e-5113-416c-af13-9487d082400b",
   "metadata": {},
   "outputs": [
    {
     "name": "stdout",
     "output_type": "stream",
     "text": [
      "#!/bin/sh\n",
      "echo \"Red iniciada, ejecutando script... /etc/network/if-up.d/telegram\"\n",
      "\n",
      "# Avisos Telegram al inicio de la maquina\n",
      "tk=botXXXXXXXX-YYYYYT-ZZZZZZZ\n",
      "id=24912345678\n",
      "txt=$(hostname)_OK+$(hostname -I|cut -d' ' -f1)\n",
      "txt=$(echo $txt | tr -d '[:space:]') #putos espacios Hacen que casque rc.local\n",
      "(timeout 20s curl -ks \"https://api.telegram.org/$tk/sendMessage?chat_id=$id&text=$txt\" )&\n",
      "\n"
     ]
    }
   ],
   "source": [
    "#base64 -w0  avisostelegram.sh # codifico el archivo pasarlo por el shell es complicado\n",
    "! adb shell 'echo \"IyEvYmluL3NoCmVjaG8gIlJlZCBpbmljaWFkYSwgZWplY3V0YW5kbyBzY3JpcHQuLi4gL2V0Yy9uZXR3b3JrL2lmLXVwLmQvdGVsZWdyYW0iCgojIEF2aXNvcyBUZWxlZ3JhbSBhbCBpbmljaW8gZGUgbGEgbWFxdWluYQp0az1ib3RYWFhYWFhYWC1ZWVlZWVQtWlpaWlpaWgppZD0yNDkxMjM0NTY3OAp0eHQ9JChob3N0bmFtZSlfT0srJChob3N0bmFtZSAtSXxjdXQgLWQnICcgLWYxKQp0eHQ9JChlY2hvICR0eHQgfCB0ciAtZCAnWzpzcGFjZTpdJykgI3B1dG9zIGVzcGFjaW9zIEhhY2VuIHF1ZSBjYXNxdWUgcmMubG9jYWwKKHRpbWVvdXQgMjBzIGN1cmwgLWtzICJodHRwczovL2FwaS50ZWxlZ3JhbS5vcmcvJHRrL3NlbmRNZXNzYWdlP2NoYXRfaWQ9JGlkJnRleHQ9JHR4dCIgKSYKCg==\" > /root/telegram.b64'\n",
    "! adb shell \"base64 -d /root/telegram.b64 > /etc/network/if-up.d/telegram\"\n",
    "! adb shell \"cat /etc/network/if-up.d/telegram\""
   ]
  },
  {
   "cell_type": "code",
   "execution_count": 38,
   "id": "fc818b38-0c29-438f-a473-85d154576077",
   "metadata": {},
   "outputs": [
    {
     "name": "stdout",
     "output_type": "stream",
     "text": [
      "Red iniciada, ejecutando script... /etc/network/if-up.d/telegram\n",
      "{\"ok\":true,\"result\":{\"message_id\":42667,\"from\":{\"id\":373675443,\"is_bot\":true,\"first_name\":\"Ssc27\",\"username\":\"Ssc27bot\"},\"chat\":{\"id\":249163929,\"first_name\":\"Sergio\",\"last_name\":\"Blazquez Lopez\",\"username\":\"Jejo_Em50L\",\"type\":\"private\"},\"date\":1738251184,\"text\":\"luckfox_OK 192.168.3.194\",\"entities\":[{\"offset\":11,\"length\":13,\"type\":\"url\"}]}}"
     ]
    }
   ],
   "source": [
    "#Compruebo que se envian los telegram\n",
    "! adb shell \"chmod ugo+x /etc/network/if-up.d/telegram\"\n",
    "! adb shell \"bash /etc/network/if-up.d/telegram ; sleep 15\""
   ]
  },
  {
   "cell_type": "code",
   "execution_count": 39,
   "id": "3195a235-b9e9-4326-83cb-56f8327825d0",
   "metadata": {},
   "outputs": [],
   "source": [
    "#Copia de seguridad del libro por si acaso\n",
    "#! cp Conf_Luckfox_WebBee2.ipynb  Conf_Luckfox_WebBee2_copiaSeg2.ipynb"
   ]
  },
  {
   "cell_type": "markdown",
   "id": "adbab262-8eff-4ea8-b6d3-4468a81377c8",
   "metadata": {},
   "source": [
    "____\n",
    "# 6) Instalar paquetes\n",
    "Nota: no se si actualizar es buena idea ya que en la distro de Ubuntu     \n",
    "he visto paquetes/librerias que no funcionan porque estan compilados para otra arquitectura"
   ]
  },
  {
   "cell_type": "code",
   "execution_count": 40,
   "id": "fafe0d7d-20c8-4266-9023-c7e8efea0519",
   "metadata": {},
   "outputs": [],
   "source": [
    "# liberar memoria (paro algunos servicios para liberar memoria)\n",
    "! adb shell systemctl stop networkd-dispatcher\n",
    "! adb shell systemctl stop NetworkManager\n",
    "! adb shell systemctl stop serial-getty@ttyFIQ0\n",
    "! adb shell systemctl stop getty@tty1 polkit ModemManager wpa_supplicant\n",
    "! adb shell systemctl stop cron\n",
    "! adb shell systemctl stop ssh\n",
    "#Nota en algunos dispositios en los que se resetea el usb hay que actualizar por ssh"
   ]
  },
  {
   "cell_type": "code",
   "execution_count": 41,
   "id": "87aecd22-ccc2-4797-92d6-761a9a6276d7",
   "metadata": {},
   "outputs": [
    {
     "name": "stdout",
     "output_type": "stream",
     "text": [
      "\u001b[0m\u001b[0;4m \u001b[0m\u001b[0m\u001b[0;4m UNIT                       \u001b[0m\u001b[0m\u001b[0;4m LOAD  \u001b[0m\u001b[0m\u001b[0;4m ACTIVE\u001b[0m\u001b[0m\u001b[0;4m SUB    \u001b[0m\u001b[0m\u001b[0;4m DESCRIPTION                 \u001b[0m\n",
      "  dbus.service                loaded active running D-Bus System Message Bus\n",
      "  NetworkManager-dispatcher.… loaded active running Network Manager Script Disp…\n",
      "  ntp.service                 loaded active running Network Time Service\n",
      "  rc-local.service            loaded active running /etc/rc.local Compatibility\n",
      "  rsyslog.service             loaded active running System Logging Service\n",
      "  systemd-journald.service    loaded active running Journal Service\n",
      "  systemd-logind.service      loaded active running User Login Management\n",
      "  systemd-udevd.service       loaded active running Rule-based Manager for Devi…\n",
      "\n",
      "LOAD   = Reflects whether the unit definition was properly loaded.\n",
      "ACTIVE = The high-level unit activation state, i.e. generalization of SUB.\n",
      "SUB    = The low-level unit activation state, values depend on unit type.\n",
      "8 loaded units listed.\n"
     ]
    }
   ],
   "source": [
    "#mostrar servicios Activos\n",
    "! adb shell systemctl list-units --no-pager --type=service --state=running"
   ]
  },
  {
   "cell_type": "code",
   "execution_count": 42,
   "id": "179bfaa1-7db6-43af-8e64-32ece640cbb5",
   "metadata": {},
   "outputs": [
    {
     "name": "stdout",
     "output_type": "stream",
     "text": [
      "               total        used        free      shared  buff/cache   available\n",
      "Mem:            56Mi        13Mi       6.0Mi       0.0Ki        36Mi        39Mi\n",
      "Swap:          1.0Gi       4.0Mi       1.0Gi\n"
     ]
    }
   ],
   "source": [
    "# Estado Memoria\n",
    "! adb shell free -h"
   ]
  },
  {
   "cell_type": "code",
   "execution_count": 56,
   "id": "9375d829-cddf-468f-bfac-913b7191292e",
   "metadata": {
    "scrolled": true
   },
   "outputs": [
    {
     "name": "stdout",
     "output_type": "stream",
     "text": [
      "Hit:1 http://ports.ubuntu.com/ubuntu-ports jammy InRelease\n",
      "Get:2 http://ports.ubuntu.com/ubuntu-ports jammy-updates InRelease [128 kB]\n",
      "Get:3 http://ports.ubuntu.com/ubuntu-ports jammy-backports InRelease [127 kB]\n",
      "Get:4 http://ports.ubuntu.com/ubuntu-ports jammy-security InRelease [129 kB]\n",
      "Get:5 http://ports.ubuntu.com/ubuntu-ports jammy-updates/main armhf Packages [1044 kB]\n",
      "Get:6 http://ports.ubuntu.com/ubuntu-ports jammy-updates/main Translation-en [386 kB]\n",
      "Get:7 http://ports.ubuntu.com/ubuntu-ports jammy-updates/restricted armhf Packages [15.9 kB]\n",
      "Get:8 http://ports.ubuntu.com/ubuntu-ports jammy-updates/restricted Translation-en [514 kB]\n",
      "Get:9 http://ports.ubuntu.com/ubuntu-ports jammy-updates/universe armhf Packages [915 kB]\n",
      "Get:10 http://ports.ubuntu.com/ubuntu-ports jammy-updates/universe Translation-en [290 kB]\n",
      "Get:11 http://ports.ubuntu.com/ubuntu-ports jammy-updates/multiverse armhf Packages [4260 B]\n",
      "Get:12 http://ports.ubuntu.com/ubuntu-ports jammy-updates/multiverse Translation-en [11.5 kB]\n",
      "Get:13 http://ports.ubuntu.com/ubuntu-ports jammy-backports/main armhf Packages [67.4 kB]\n",
      "Get:14 http://ports.ubuntu.com/ubuntu-ports jammy-backports/main Translation-en [11.1 kB]\n",
      "Get:15 http://ports.ubuntu.com/ubuntu-ports jammy-backports/universe armhf Packages [28.4 kB]\n",
      "Get:16 http://ports.ubuntu.com/ubuntu-ports jammy-backports/universe Translation-en [16.6 kB]\n",
      "Get:17 http://ports.ubuntu.com/ubuntu-ports jammy-security/main armhf Packages [837 kB]\n",
      "Get:18 http://ports.ubuntu.com/ubuntu-ports jammy-security/main Translation-en [324 kB]\n",
      "Get:19 http://ports.ubuntu.com/ubuntu-ports jammy-security/restricted armhf Packages [14.7 kB]\n",
      "Get:20 http://ports.ubuntu.com/ubuntu-ports jammy-security/restricted Translation-en [498 kB]\n",
      "Get:21 http://ports.ubuntu.com/ubuntu-ports jammy-security/universe armhf Packages [701 kB]\n",
      "Get:22 http://ports.ubuntu.com/ubuntu-ports jammy-security/universe Translation-en [205 kB]\n",
      "Get:23 http://ports.ubuntu.com/ubuntu-ports jammy-security/multiverse armhf Packages [1264 B]\n",
      "Get:24 http://ports.ubuntu.com/ubuntu-ports jammy-security/multiverse Translation-en [8260 B]\n",
      "Fetched 1300 kB in 15s (84.9 kB/s)\u001b[0m\u001b[33m                                    \u001b[0m\u001b[33m\n",
      "Reading package lists... Done\n",
      "Building dependency tree... Done\n",
      "Reading state information... Done\n",
      "148 packages can be upgraded. Run 'apt list --upgradable' to see them.\n"
     ]
    }
   ],
   "source": [
    "# cargar repositorios\n",
    "! adb shell apt update\n",
    "#! adb shell \"(apt update&)& sleep 30\"\n",
    "# Nota: no se si actualizar es buena idea ya que en la distro de Ubuntu     \n",
    "# he visto paquetes/librerias que no funcionan porque estan compilados para otra arquitectura\n",
    "# ej build-essential gcc "
   ]
  },
  {
   "cell_type": "code",
   "execution_count": 44,
   "id": "bc1443ed-2860-4d72-8db3-4742d1c30645",
   "metadata": {},
   "outputs": [],
   "source": [
    "# si la actuzlizacion falla (reinicios en el usb) es mejor hacerlo por ssh \n",
    "# en lugar de por adb porque al parecer el usb se resetea bastante a menudo ***"
   ]
  },
  {
   "cell_type": "code",
   "execution_count": 45,
   "id": "785ebd46-75e2-4609-9e88-a4c539731a5d",
   "metadata": {
    "scrolled": true
   },
   "outputs": [
    {
     "name": "stdout",
     "output_type": "stream",
     "text": [
      "Reading package lists... Done\n",
      "Building dependency tree... Done\n",
      "Reading state information... Done\n",
      "The following additional packages will be installed:\n",
      "  fonts-font-awesome fonts-lato ipython3 python3-backcall python3-cffi-backend\n",
      "  python3-cryptography python3-decorator python3-ipython python3-jedi\n",
      "  python3-matplotlib-inline python3-parso python3-pexpect python3-pickleshare\n",
      "  python3-prompt-toolkit python3-ptyprocess python3-pygments python3-traitlets\n",
      "  python3-wcwidth sphinx-rtd-theme-common\n",
      "Suggested packages:\n",
      "  python-cryptography-doc python3-cryptography-vectors python-ipython-doc\n",
      "  python-pexpect-doc python-pygments-doc ttf-bitstream-vera graphviz\n",
      "  python3-matplotlib python3-pyx tcpreplay wireshark\n",
      "Recommended packages:\n",
      "  python3-matplotlib\n",
      "The following NEW packages will be installed:\n",
      "  fonts-font-awesome fonts-lato ipython3 python3-backcall python3-cffi-backend\n",
      "  python3-cryptography python3-decorator python3-ipython python3-jedi\n",
      "  python3-matplotlib-inline python3-parso python3-pexpect python3-pickleshare\n",
      "  python3-prompt-toolkit python3-ptyprocess python3-pygments python3-scapy\n",
      "  python3-traitlets python3-wcwidth sphinx-rtd-theme-common\n",
      "0 upgraded, 20 newly installed, 0 to remove and 0 not upgraded.\n",
      "Need to get 8640 kB of archives.\n",
      "After this operation, 43.1 MB of additional disk space will be used.\n",
      "Get:1 http://ports.ubuntu.com/ubuntu-ports jammy/main armhf fonts-lato all 2.0-2.1 [2696 kB]\n",
      "Get:2 http://ports.ubuntu.com/ubuntu-ports jammy/main armhf fonts-font-awesome all 5.0.10+really4.7.0~dfsg-4.1 [516 kB]\n",
      "Get:3 http://ports.ubuntu.com/ubuntu-ports jammy/universe armhf python3-backcall all 0.2.0-2 [11.0 kB]\n",
      "Get:4 http://ports.ubuntu.com/ubuntu-ports jammy/main armhf python3-decorator all 4.4.2-0ubuntu1 [10.3 kB]\n",
      "Get:5 http://ports.ubuntu.com/ubuntu-ports jammy/universe armhf python3-parso all 0.8.1-1 [64.5 kB]\n",
      "Get:6 http://ports.ubuntu.com/ubuntu-ports jammy/universe armhf python3-jedi all 0.18.0-1 [615 kB]\n",
      "Get:7 http://ports.ubuntu.com/ubuntu-ports jammy/universe armhf python3-traitlets all 5.1.1-1 [81.2 kB]\n",
      "Get:8 http://ports.ubuntu.com/ubuntu-ports jammy/universe armhf python3-matplotlib-inline all 0.1.3-1 [8070 B]\n",
      "Get:9 http://ports.ubuntu.com/ubuntu-ports jammy/main armhf python3-ptyprocess all 0.7.0-3 [15.4 kB]\n",
      "Get:10 http://ports.ubuntu.com/ubuntu-ports jammy/main armhf python3-pexpect all 4.8.0-2ubuntu1 [46.7 kB]\n",
      "Get:11 http://ports.ubuntu.com/ubuntu-ports jammy/universe armhf python3-pickleshare all 0.7.5-5 [7570 B]\n",
      "Get:12 http://ports.ubuntu.com/ubuntu-ports jammy/main armhf python3-wcwidth all 0.2.5+dfsg1-1 [21.9 kB]\n",
      "Get:13 http://ports.ubuntu.com/ubuntu-ports jammy/universe armhf python3-prompt-toolkit all 3.0.28-1 [251 kB]\n",
      "Get:14 http://ports.ubuntu.com/ubuntu-ports jammy/main armhf python3-pygments all 2.11.2+dfsg-2 [750 kB]\n",
      "Get:15 http://ports.ubuntu.com/ubuntu-ports jammy/universe armhf python3-ipython all 7.31.1-1 [534 kB]\n",
      "Get:16 http://ports.ubuntu.com/ubuntu-ports jammy/universe armhf ipython3 all 7.31.1-1 [5238 B]\n",
      "Get:17 http://ports.ubuntu.com/ubuntu-ports jammy/main armhf python3-cffi-backend armhf 1.15.0-1build2 [67.6 kB]\n",
      "Get:18 http://ports.ubuntu.com/ubuntu-ports jammy/main armhf python3-cryptography armhf 3.4.8-1ubuntu2 [222 kB]\n",
      "Get:19 http://ports.ubuntu.com/ubuntu-ports jammy/main armhf sphinx-rtd-theme-common all 1.0.0+dfsg-1 [991 kB]\n",
      "Get:20 http://ports.ubuntu.com/ubuntu-ports jammy/universe armhf python3-scapy all 2.4.4-4ubuntu1 [1727 kB]\n",
      "Fetched 8640 kB in 5s (1774 kB/s)    \u001b[0m\n",
      "Selecting previously unselected package fonts-lato.\n",
      "(Reading database ... 48133 files and directories currently installed.)\n",
      "Preparing to unpack .../00-fonts-lato_2.0-2.1_all.deb ...\n",
      "Unpacking fonts-lato (2.0-2.1) ...\n",
      "Selecting previously unselected package fonts-font-awesome.\n",
      "Preparing to unpack .../01-fonts-font-awesome_5.0.10+really4.7.0~dfsg-4.1_all.deb ...\n",
      "Unpacking fonts-font-awesome (5.0.10+really4.7.0~dfsg-4.1) ...\n",
      "Selecting previously unselected package python3-backcall.\n",
      "Preparing to unpack .../02-python3-backcall_0.2.0-2_all.deb ...\n",
      "Unpacking python3-backcall (0.2.0-2) ...\n",
      "Selecting previously unselected package python3-decorator.\n",
      "Preparing to unpack .../03-python3-decorator_4.4.2-0ubuntu1_all.deb ...\n",
      "Unpacking python3-decorator (4.4.2-0ubuntu1) ...\n",
      "Selecting previously unselected package python3-parso.\n",
      "Preparing to unpack .../04-python3-parso_0.8.1-1_all.deb ...\n",
      "Unpacking python3-parso (0.8.1-1) ...\n",
      "Selecting previously unselected package python3-jedi.\n",
      "Preparing to unpack .../05-python3-jedi_0.18.0-1_all.deb ...\n",
      "Unpacking python3-jedi (0.18.0-1) ...\n",
      "Selecting previously unselected package python3-traitlets.\n",
      "Preparing to unpack .../06-python3-traitlets_5.1.1-1_all.deb ...\n",
      "Unpacking python3-traitlets (5.1.1-1) ...\n",
      "Selecting previously unselected package python3-matplotlib-inline.\n",
      "Preparing to unpack .../07-python3-matplotlib-inline_0.1.3-1_all.deb ...\n",
      "Unpacking python3-matplotlib-inline (0.1.3-1) ...\n",
      "Selecting previously unselected package python3-ptyprocess.\n",
      "Preparing to unpack .../08-python3-ptyprocess_0.7.0-3_all.deb ...\n",
      "Unpacking python3-ptyprocess (0.7.0-3) ...\n",
      "Selecting previously unselected package python3-pexpect.\n",
      "Preparing to unpack .../09-python3-pexpect_4.8.0-2ubuntu1_all.deb ...\n",
      "Unpacking python3-pexpect (4.8.0-2ubuntu1) ...\n",
      "Selecting previously unselected package python3-pickleshare.\n",
      "Preparing to unpack .../10-python3-pickleshare_0.7.5-5_all.deb ...\n",
      "Unpacking python3-pickleshare (0.7.5-5) ...\n",
      "Selecting previously unselected package python3-wcwidth.\n",
      "Preparing to unpack .../11-python3-wcwidth_0.2.5+dfsg1-1_all.deb ...\n",
      "Unpacking python3-wcwidth (0.2.5+dfsg1-1) ...\n",
      "Selecting previously unselected package python3-prompt-toolkit.\n",
      "Preparing to unpack .../12-python3-prompt-toolkit_3.0.28-1_all.deb ...\n",
      "Unpacking python3-prompt-toolkit (3.0.28-1) ...\n",
      "Selecting previously unselected package python3-pygments.\n",
      "Preparing to unpack .../13-python3-pygments_2.11.2+dfsg-2_all.deb ...\n",
      "Unpacking python3-pygments (2.11.2+dfsg-2) ...\n",
      "Selecting previously unselected package python3-ipython.\n",
      "Preparing to unpack .../14-python3-ipython_7.31.1-1_all.deb ...\n",
      "Unpacking python3-ipython (7.31.1-1) ...\n",
      "Selecting previously unselected package ipython3.\n",
      "Preparing to unpack .../15-ipython3_7.31.1-1_all.deb ...\n",
      "Unpacking ipython3 (7.31.1-1) ...\n",
      "Selecting previously unselected package python3-cffi-backend:armhf.\n",
      "Preparing to unpack .../16-python3-cffi-backend_1.15.0-1build2_armhf.deb ...\n",
      "Unpacking python3-cffi-backend:armhf (1.15.0-1build2) ...\n",
      "Selecting previously unselected package python3-cryptography.\n",
      "Preparing to unpack .../17-python3-cryptography_3.4.8-1ubuntu2_armhf.deb ...\n",
      "Unpacking python3-cryptography (3.4.8-1ubuntu2) ...\n",
      "Selecting previously unselected package sphinx-rtd-theme-common.\n",
      "Preparing to unpack .../18-sphinx-rtd-theme-common_1.0.0+dfsg-1_all.deb ...\n",
      "Unpacking sphinx-rtd-theme-common (1.0.0+dfsg-1) ...\n",
      "Selecting previously unselected package python3-scapy.\n",
      "Preparing to unpack .../19-python3-scapy_2.4.4-4ubuntu1_all.deb ...\n",
      "Unpacking python3-scapy (2.4.4-4ubuntu1) ...\n",
      "Setting up fonts-lato (2.0-2.1) ...\n",
      "Setting up python3-backcall (0.2.0-2) ...\n",
      "Setting up python3-parso (0.8.1-1) ...\n",
      "Setting up python3-decorator (4.4.2-0ubuntu1) ...\n",
      "Setting up python3-pygments (2.11.2+dfsg-2) ...\n",
      "Setting up python3-wcwidth (0.2.5+dfsg1-1) ...\n",
      "Setting up python3-pickleshare (0.7.5-5) ...\n",
      "Setting up python3-traitlets (5.1.1-1) ...\n",
      "Setting up fonts-font-awesome (5.0.10+really4.7.0~dfsg-4.1) ...\n",
      "Setting up sphinx-rtd-theme-common (1.0.0+dfsg-1) ...\n",
      "Setting up python3-cffi-backend:armhf (1.15.0-1build2) ...\n",
      "Setting up python3-ptyprocess (0.7.0-3) ...\n",
      "Setting up python3-prompt-toolkit (3.0.28-1) ...\n",
      "Setting up python3-jedi (0.18.0-1) ...\n",
      "Setting up python3-matplotlib-inline (0.1.3-1) ...\n",
      "Setting up python3-pexpect (4.8.0-2ubuntu1) ...\n",
      "Setting up python3-cryptography (3.4.8-1ubuntu2) ...\n",
      "Setting up python3-scapy (2.4.4-4ubuntu1) ...\n",
      "Setting up python3-ipython (7.31.1-1) ...\n",
      "Setting up ipython3 (7.31.1-1) ...\n",
      "Processing triggers for fontconfig (2.13.1-4.2ubuntu5) ...\n"
     ]
    }
   ],
   "source": [
    "# Instalo\n",
    "! adb shell apt install python3-scapy -y"
   ]
  },
  {
   "cell_type": "code",
   "execution_count": 46,
   "id": "11df2c9c-cb8b-4e18-823d-a3e07720c6ec",
   "metadata": {},
   "outputs": [],
   "source": [
    "#Copia de seguridad del libro por si acaso\n",
    "#! cp Conf_Luckfox_WebBee2.ipynb  Conf_Luckfox_WebBee2_copiaSeg3.ipynb"
   ]
  },
  {
   "cell_type": "code",
   "execution_count": 47,
   "id": "16f94c78-c41b-44e2-a614-9897dfe41162",
   "metadata": {},
   "outputs": [
    {
     "name": "stdout",
     "output_type": "stream",
     "text": [
      "Reading package lists... Done\n",
      "Building dependency tree... Done\n",
      "Reading state information... Done\n",
      "tcpdump is already the newest version (4.99.1-3ubuntu0.1).\n",
      "0 upgraded, 0 newly installed, 0 to remove and 0 not upgraded.\n"
     ]
    }
   ],
   "source": [
    "# Instalo\n",
    "! adb shell apt install tcpdump -y"
   ]
  },
  {
   "cell_type": "code",
   "execution_count": 48,
   "id": "090f075f-d18e-4496-9d87-c5c06dc16a77",
   "metadata": {},
   "outputs": [
    {
     "name": "stdout",
     "output_type": "stream",
     "text": [
      "Reading package lists... Done\n",
      "Building dependency tree... Done\n",
      "Reading state information... Done\n",
      "The following additional packages will be installed:\n",
      "  libblas3 liblinear4 liblua5.3-0 lua-lpeg nmap-common\n",
      "Suggested packages:\n",
      "  liblinear-tools liblinear-dev ncat ndiff zenmap\n",
      "The following NEW packages will be installed:\n",
      "  libblas3 liblinear4 liblua5.3-0 lua-lpeg nmap nmap-common\n",
      "0 upgraded, 6 newly installed, 0 to remove and 0 not upgraded.\n",
      "Need to get 5879 kB of archives.\n",
      "After this operation, 25.6 MB of additional disk space will be used.\n",
      "Get:1 http://ports.ubuntu.com/ubuntu-ports jammy/main armhf libblas3 armhf 3.10.0-2ubuntu1 [118 kB]\n",
      "Get:2 http://ports.ubuntu.com/ubuntu-ports jammy/universe armhf liblinear4 armhf 2.3.0+dfsg-5 [36.0 kB]\n",
      "Get:3 http://ports.ubuntu.com/ubuntu-ports jammy/main armhf liblua5.3-0 armhf 5.3.6-1build1 [112 kB]\n",
      "Get:4 http://ports.ubuntu.com/ubuntu-ports jammy/universe armhf lua-lpeg armhf 1.0.2-1 [27.0 kB]\n",
      "Get:5 http://ports.ubuntu.com/ubuntu-ports jammy/universe armhf nmap-common all 7.91+dfsg1+really7.80+dfsg1-2build1 [3940 kB]\n",
      "Get:6 http://ports.ubuntu.com/ubuntu-ports jammy/universe armhf nmap armhf 7.91+dfsg1+really7.80+dfsg1-2build1 [1645 kB]\n",
      "Fetched 5879 kB in 4s (1562 kB/s)\n",
      "Selecting previously unselected package libblas3:armhf.\n",
      "(Reading database ... 51647 files and directories currently installed.)\n",
      "Preparing to unpack .../0-libblas3_3.10.0-2ubuntu1_armhf.deb ...\n",
      "Unpacking libblas3:armhf (3.10.0-2ubuntu1) ...\n",
      "Selecting previously unselected package liblinear4:armhf.\n",
      "Preparing to unpack .../1-liblinear4_2.3.0+dfsg-5_armhf.deb ...\n",
      "Unpacking liblinear4:armhf (2.3.0+dfsg-5) ...\n",
      "Selecting previously unselected package liblua5.3-0:armhf.\n",
      "Preparing to unpack .../2-liblua5.3-0_5.3.6-1build1_armhf.deb ...\n",
      "Unpacking liblua5.3-0:armhf (5.3.6-1build1) ...\n",
      "Selecting previously unselected package lua-lpeg:armhf.\n",
      "Preparing to unpack .../3-lua-lpeg_1.0.2-1_armhf.deb ...\n",
      "Unpacking lua-lpeg:armhf (1.0.2-1) ...\n",
      "Selecting previously unselected package nmap-common.\n",
      "Preparing to unpack .../4-nmap-common_7.91+dfsg1+really7.80+dfsg1-2build1_all.deb ...\n",
      "Unpacking nmap-common (7.91+dfsg1+really7.80+dfsg1-2build1) ...\n",
      "Selecting previously unselected package nmap.\n",
      "Preparing to unpack .../5-nmap_7.91+dfsg1+really7.80+dfsg1-2build1_armhf.deb ...\n",
      "Unpacking nmap (7.91+dfsg1+really7.80+dfsg1-2build1) ...\n",
      "Setting up lua-lpeg:armhf (1.0.2-1) ...\n",
      "Setting up libblas3:armhf (3.10.0-2ubuntu1) ...\n",
      "update-alternatives: using /usr/lib/arm-linux-gnueabihf/blas/libblas.so.3 to provide /usr/lib/arm-linux-gnueabihf/libblas.so.3 (libblas.so.3-arm-linux-gnueabihf) in auto mode\n",
      "Setting up nmap-common (7.91+dfsg1+really7.80+dfsg1-2build1) ...\n",
      "Setting up liblua5.3-0:armhf (5.3.6-1build1) ...\n",
      "Setting up liblinear4:armhf (2.3.0+dfsg-5) ...\n",
      "Setting up nmap (7.91+dfsg1+really7.80+dfsg1-2build1) ...\n",
      "Processing triggers for libc-bin (2.35-0ubuntu3.4) ...\n"
     ]
    }
   ],
   "source": [
    "# Instalo\n",
    "! adb shell apt install nmap -y"
   ]
  },
  {
   "cell_type": "markdown",
   "id": "572eb843-68bd-4472-ba81-19a1796b8fa5",
   "metadata": {},
   "source": [
    "# Crear servicio Bridgue (puente entre interfaz usb y eth0)"
   ]
  },
  {
   "cell_type": "code",
   "execution_count": 49,
   "id": "1a5b3eda-0fb3-4e13-9f3f-a9a1290a496c",
   "metadata": {},
   "outputs": [
    {
     "name": "stdout",
     "output_type": "stream",
     "text": [
      "[Unit]\n",
      "Description=Servicio bridgue /etc/systemd/system/mi_bridgue.service\n",
      "After=sshd.target\n",
      "\n",
      "[Service]\n",
      "Type=oneshot\n",
      "ExecStartPre=/sbin/ip link set dev eth0 up\n",
      "ExecStart=/usr/local/bin/mi_bridgue.py\n",
      "RemainAfterExit=yes\n",
      "\n",
      "[Install]\n",
      "WantedBy=network.target\n",
      "# opciones multi-user.target network.target basic.target\n",
      "\n"
     ]
    }
   ],
   "source": [
    "#Paso el archivo mi_bridgue.service usando base64\n",
    "#base64 -w0 mi_bridgue.service\n",
    "! adb shell 'echo \"W1VuaXRdCkRlc2NyaXB0aW9uPVNlcnZpY2lvIGJyaWRndWUgL2V0Yy9zeXN0ZW1kL3N5c3RlbS9taV9icmlkZ3VlLnNlcnZpY2UKQWZ0ZXI9c3NoZC50YXJnZXQKCltTZXJ2aWNlXQpUeXBlPW9uZXNob3QKRXhlY1N0YXJ0UHJlPS9zYmluL2lwIGxpbmsgc2V0IGRldiBldGgwIHVwCkV4ZWNTdGFydD0vdXNyL2xvY2FsL2Jpbi9taV9icmlkZ3VlLnB5ClJlbWFpbkFmdGVyRXhpdD15ZXMKCltJbnN0YWxsXQpXYW50ZWRCeT1uZXR3b3JrLnRhcmdldAojIG9wY2lvbmVzIG11bHRpLXVzZXIudGFyZ2V0IG5ldHdvcmsudGFyZ2V0IGJhc2ljLnRhcmdldAoK\" > /root/mi_bridgue.service.b64'\n",
    "! adb shell \"base64 -d /root/mi_bridgue.service.b64 > /etc/systemd/system/mi_bridgue.service\"\n",
    "! adb shell \"cat /etc/systemd/system/mi_bridgue.service\""
   ]
  },
  {
   "cell_type": "markdown",
   "id": "c332fdb2-60c4-4408-83eb-b11766986f28",
   "metadata": {},
   "source": [
    "<div class=\"alert alert-block alert-danger\">\n",
    "<b>Nota:</b> Para que funcione bien en algunos entornos tengo que añadir:<br>\n",
    "ifconfig usb0 mtu 4500      <br>\n",
    "<b>en: /etc/init.d/S50usbdevice </b>  Funcion run_binary()\n",
    "</div>\n",
    "\n",
    "<pre style=\"border: 1px solid red; padding: 10px;\">\n",
    "run_binary()\n",
    "{\n",
    "\tif [ $MTP_EN = on ];then\n",
    "\t\tstart-stop-daemon --start --quiet --background --exec /usr/bin/mtp-server\n",
    "\tfi\n",
    "\tif [ $RNDIS_EN = on ];then\n",
    "\n",
    "\tsleep .5\n",
    "\t#ifconfig usb0 172.32.0.70\n",
    "\tifconfig usb0 169.254.0.1\n",
    "\tifconfig usb0 mtu 4500\n",
    "\tifconfig usb0 up\n",
    "\tfi\n",
    "\n",
    "}</pre>"
   ]
  },
  {
   "cell_type": "raw",
   "id": "2298864c-a25c-46c0-8869-ef71610a2c37",
   "metadata": {},
   "source": [
    "#Paso el archivo mi_bridgue.py usando base64 (version Sencilla)\n",
    "#base64 -w0 mi_bridgue.service\n",
    "! adb shell 'echo \"IyEvdXNyL2Jpbi9weXRob24zCiMgQnJpZGd1ZSBldGgwPD0+VVNCMCBWZXJzaW9uIE1lam9yYWRhICggbmFubyAvdXNyL2xvY2FsL2Jpbi9taV9icmlkZ3VlLnB5ICkKZnJvbSBzY2FweS5hbGwgaW1wb3J0IGNvbmYsc25pZmYsc2VuZHAsZ2V0X2lmX2h3YWRkciAKZnJvbSB0aHJlYWRpbmcgaW1wb3J0IFRocmVhZApmcm9tIHNjYXB5LmNvbmZpZyBpbXBvcnQgY29uZgpjb25mLnZlcmIgPSAzICAgICAgICAgICAgICAgICAgICAgICAjIG11ZXN0cm8gbWFzIGluZm9ybWFjaW9uIGRlIGRlcHVyYWNpb24KY29uZi5zbmlmZl9wcm9taXNjID0gVHJ1ZSAgICAgICAgICAgIyBIYWJpbGl0YXIgZWwgbW9kbyBwcm9taXNjdW8gZ2xvYmFsbWVudGUKcHJpbnQgKGYiYnJpZGd1ZSBlbnRyZSBldGgwIHkgdXNiMCIpCgojIGZpbHRybyBCUEYgbWVqb3JhZG8gCm1hY19ldGgwID0gZ2V0X2lmX2h3YWRkcigiZXRoMCIpICAgI09idGVuZXIgbGFzIGRpcmVjY2lvbmVzIE1BQyBkZSBsYXMgaW50ZXJmYWNlcwpmaWx0cm9CUEYgPSBmImluYm91bmQgYW5kIG5vdCBldGhlciBkc3Qge21hY19ldGgwfSIgIyB0cmFmaWNvIGVudHJhbnRlIHF1ZSBubyBlcyBwYXJhIGxhIG1hYyBkZSBldGgwCgpkZWYgZm9yd2FyZF9ldGgwX3RvX3VzYjAoKToKICAgIHNuaWZmKGlmYWNlPSJldGgwIixmaWx0ZXI9ZmlsdHJvQlBGLHN0b3JlPTAscHJuPWxhbWJkYSB4OnNlbmRwKHgsaWZhY2U9InVzYjAiLHZlcmJvc2U9MCkpCgpkZWYgZm9yd2FyZF91c2IwX3RvX2V0aDAoKToKICAgIHNuaWZmKGlmYWNlPSJ1c2IwIixmaWx0ZXI9ImluYm91bmQiLHN0b3JlPTAscHJuPWxhbWJkYSB4OnNlbmRwKHgsaWZhY2U9ImV0aDAiLHZlcmJvc2U9MCkpCgojIGhpbG9zIHBhcmEgY29waWFyIHRyYWZpY28gZGUgdW5hIGludGVyZmF6IGEgb3RyYQpUaHJlYWQodGFyZ2V0PWZvcndhcmRfdXNiMF90b19ldGgwKS5zdGFydCgpICAjIGVuIHBydWViYXMgcG9kcmlhIGNyZWFyIDIgaGlsb3MKI1RocmVhZCh0YXJnZXQ9Zm9yd2FyZF9ldGgwX3RvX3VzYjApLnN0YXJ0KCkgIyBBIG5pdmVsIGRlIHJlbmRpbWllbnRvIGVzIG1lam9yIGNyZWFyIDIgaGlsb3MvcHJvY2Vzb3MKI3doaWxlIFRydWU6ICAgICAgICAgICAgICAgICAgICAgICAgICAgICAgICAgICMgYXNpIG5vIHNlIHBhcmEgZWwgcHJvZ3JhbWEuIFV0aWwgcGFyYSBlamVjdXRhcmxvIGNvbW8gc2VydmljaW8KIyAgICB0cnk6IGZvcndhcmRfZXRoMF90b191c2IwKCkKIyAgICBleGNlcHQ6IHBhc3MKZm9yd2FyZF9ldGgwX3RvX3VzYjAoKQoKIyB0ZXN0IChjb24gZXN0ZSBjb21hbmRvIGRldmVyaWEgYXByZWNpYXJzZSBjb21vIHNlIGNvcGlhbiBsb3MgcGFxcXVldGVzKQojIGFkYiBzaGVsbCB0Y3BkdW1wIC1pIGFueSAtbiAtcyAxMjggLXEgbm90IHBvcnQgMjIKCg==\" > /root/mi_bridgue.py.b64'\n",
    "! adb shell \"base64 -d /root/mi_bridgue.py.b64 > /usr/local/bin/mi_bridgue.py\"\n",
    "! adb shell \"chmod ugo+x /usr/local/bin/mi_bridgue.py\"\n",
    "! adb shell \"ls -lha /usr/local/bin/mi_bridgue.py\"\n",
    "! adb shell \"cat /usr/local/bin/mi_bridgue.py\""
   ]
  },
  {
   "cell_type": "code",
   "execution_count": 50,
   "id": "40c89758-3755-49d1-a355-e3dbe225711d",
   "metadata": {},
   "outputs": [
    {
     "name": "stdout",
     "output_type": "stream",
     "text": [
      "-rwxrwxrwx 1 root root 1.7K Jan 30 23:40 /usr/local/bin/mi_bridgue.py\n",
      "#!/usr/bin/python3\n",
      "# Bridgue eth0<=>USB0 Version Mejorada ( nano /usr/local/bin/mi_bridgue.py )\n",
      "from scapy.all import conf,sniff,sendp,get_if_hwaddr \n",
      "from threading import Thread\n",
      "from scapy.config import conf\n",
      "conf.verb = 3                       # muestro mas informacion de depuracion\n",
      "conf.sniff_promisc = True           # Habilitar el modo promiscuo globalmente\n",
      "print (f\"bridgue entre eth0 y usb0\")\n",
      "\n",
      "def forward_usb0_to_eth0():\n",
      "    sniff(iface=\"usb0\",filter=\"inbound\",store=0,prn=lambda x:sendp(x,iface=\"eth0\",verbose=0))\n",
      "# hilos para copiar trafico de una interfaz a otra\n",
      "Thread(target=forward_usb0_to_eth0).start()  # en pruebas podria crear 2 hilos\n",
      "\n",
      "\n",
      "# filtro BPF mejorado \n",
      "mac_eth0 = get_if_hwaddr(\"eth0\")   #Obtener las direcciones MAC de las interfaces\n",
      "filtroBPF = f\"inbound and not ether dst {mac_eth0}\" # trafico entrante que no es para la mac de eth0\n",
      "#filtroBPF = f\"inbound and (arp or port 67 or port 68 or icmp) and not ether dst {mac_eth0}\"\n",
      "#filtroBPF = f\"inbound and (arp or port 53 or port 67 or port 68 or icmp) and not ether dst {mac_eth0}\"#SIN MEMORIA\n",
      "#filtroBPF = f\"inbound and (arp or port 53 or port 67 or port 68 or icmp) \"#no funciona\n",
      "\n",
      "def forward_eth0_to_usb0():\n",
      "    sniff(iface=\"eth0\",filter=filtroBPF,store=0,prn=lambda x:sendp(x,iface=\"usb0\",verbose=0))\n",
      "\n",
      "\n",
      "#Thread(target=forward_eth0_to_usb0).start() # A nivel de rendimiento es mejor crear 2 hilos/procesos\n",
      "while True:                                  # asi no se para el programa. Util para ejecutarlo como servicio\n",
      "    try: forward_eth0_to_usb0()\n",
      "    except: pass\n",
      "#forward_eth0_to_usb0()\n",
      "\n",
      "# test (con este comando deveria apreciarse como se copian los paqquetes)\n",
      "# adb shell tcpdump -i any -n -s 128 -q not port 22\n",
      "\n"
     ]
    }
   ],
   "source": [
    "#Paso el archivo mi_bridgue.py usando base64 (version solo pasa icmp) (se queda sin memoria)\n",
    "#base64 -w0 mi_bridgue.service\n",
    "! adb shell 'echo \"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\" > /root/mi_bridgue.py.b64'\n",
    "! adb shell \"base64 -d /root/mi_bridgue.py.b64 > /usr/local/bin/mi_bridgue.py\"\n",
    "! adb shell \"chmod ugo+x /usr/local/bin/mi_bridgue.py\"\n",
    "! adb shell \"ls -lha /usr/local/bin/mi_bridgue.py\"\n",
    "! adb shell \"cat /usr/local/bin/mi_bridgue.py\""
   ]
  },
  {
   "cell_type": "code",
   "execution_count": 51,
   "id": "3478d9d8-03d2-40b8-aea1-bc3c0db3fdec",
   "metadata": {},
   "outputs": [],
   "source": [
    "! adb shell \"systemctl start mi_bridgue\"\n",
    "#! adb shell \"systemctl enable mi_bridgue\""
   ]
  },
  {
   "cell_type": "code",
   "execution_count": 52,
   "id": "0208115e-abb9-478d-a2c5-0864f882aa7d",
   "metadata": {},
   "outputs": [
    {
     "name": "stdout",
     "output_type": "stream",
     "text": [
      "error: no devices/emulators found\n",
      "1: lo: <LOOPBACK,UP,LOWER_UP> mtu 65536 qdisc noqueue state UNKNOWN group default qlen 1000\n",
      "    link/loopback 00:00:00:00:00:00 brd 00:00:00:00:00:00\n",
      "    inet 127.0.0.1/8 scope host lo\n",
      "       valid_lft forever preferred_lft forever\n",
      "2: eth0: <BROADCAST,MULTICAST,UP,LOWER_UP> mtu 1500 qdisc mq state UP group default qlen 1000\n",
      "    link/ether 02:eb:4d:8a:67:8b brd ff:ff:ff:ff:ff:ff\n",
      "    inet 192.168.3.195/24 brd 192.168.3.255 scope global dynamic noprefixroute eth0\n",
      "       valid_lft 86390sec preferred_lft 86390sec\n",
      "3: usb0: <BROADCAST,MULTICAST,UP,LOWER_UP> mtu 1500 qdisc pfifo_fast state UP group default qlen 1000\n",
      "    link/ether 3a:91:cb:ae:12:82 brd ff:ff:ff:ff:ff:ff\n",
      "    inet 169.254.1.1/16 brd 169.254.255.255 scope global usb0\n",
      "       valid_lft forever preferred_lft forever\n",
      "\u001b[0m\u001b[0;4m \u001b[0m\u001b[0m\u001b[0;4m UNIT                       \u001b[0m\u001b[0m\u001b[0;4m LOAD  \u001b[0m\u001b[0m\u001b[0;4m ACTIVE\u001b[0m\u001b[0m\u001b[0;4m SUB    \u001b[0m\u001b[0m\u001b[0;4m DESCRIPTION                 \u001b[0m\n",
      "  cron.service                loaded active running Regular background program …\n",
      "  dbus.service                loaded active running D-Bus System Message Bus\n",
      "  networkd-dispatcher.service loaded active running Dispatcher daemon for syste…\n",
      "  NetworkManager-dispatcher.… loaded active running Network Manager Script Disp…\n",
      "  NetworkManager.service      loaded active running Network Manager\n",
      "  ntp.service                 loaded active running Network Time Service\n",
      "  rc-local.service            loaded active running /etc/rc.local Compatibility\n",
      "  rsyslog.service             loaded active running System Logging Service\n",
      "  serial-getty@ttyFIQ0.servi… loaded active running Serial Getty on ttyFIQ0\n",
      "  ssh.service                 loaded active running OpenBSD Secure Shell server\n",
      "  systemd-hostnamed.service   loaded active running Hostname Service\n",
      "  systemd-journald.service    loaded active running Journal Service\n",
      "  systemd-logind.service      loaded active running User Login Management\n",
      "  systemd-udevd.service       loaded active running Rule-based Manager for Devi…\n",
      "\n",
      "LOAD   = Reflects whether the unit definition was properly loaded.\n",
      "ACTIVE = The high-level unit activation state, i.e. generalization of SUB.\n",
      "SUB    = The low-level unit activation state, values depend on unit type.\n",
      "14 loaded units listed.\n"
     ]
    }
   ],
   "source": [
    "# Reiniciar a ver que tal \n",
    "! adb reboot\n",
    "! sleep 45s\n",
    "! adb shell ip a\n",
    "! adb shell systemctl list-units --no-pager --type=service --state=running"
   ]
  },
  {
   "cell_type": "code",
   "execution_count": 53,
   "id": "26626e42-7a1b-421c-8b6f-047e5d604210",
   "metadata": {},
   "outputs": [],
   "source": [
    "#Copia de seguridad del libro por si acaso\n",
    "#! cp Conf_Luckfox_WebBee2b.ipynb  Conf_Luckfox_WebBee2b_copiaSeg.ipynb"
   ]
  },
  {
   "cell_type": "code",
   "execution_count": null,
   "id": "66da2729-286b-4b15-ae6e-bed5ae00d18d",
   "metadata": {},
   "outputs": [],
   "source": []
  }
 ],
 "metadata": {
  "kernelspec": {
   "display_name": "Python 3 (ipykernel)",
   "language": "python",
   "name": "python3"
  },
  "language_info": {
   "codemirror_mode": {
    "name": "ipython",
    "version": 3
   },
   "file_extension": ".py",
   "mimetype": "text/x-python",
   "name": "python",
   "nbconvert_exporter": "python",
   "pygments_lexer": "ipython3",
   "version": "3.11.2"
  }
 },
 "nbformat": 4,
 "nbformat_minor": 5
}
